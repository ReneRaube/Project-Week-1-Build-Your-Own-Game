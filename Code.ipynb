{
 "cells": [
  {
   "cell_type": "code",
   "execution_count": 1,
   "metadata": {},
   "outputs": [],
   "source": [
    "import random"
   ]
  },
  {
   "cell_type": "code",
   "execution_count": null,
   "metadata": {},
   "outputs": [],
   "source": [
    "print(\"Today we will play a little game called 'Guess the number'.\\nIn this game you have to find out which number (a random number between 1 and 100) the computer chose. \\nYou have 8 tries. The computer will always indicate whether your the unknown number is higher or lower.\")\n",
    "\n",
    "for x in range(1):\n",
    "    hidden_number=random.randint(1,101)\n",
    "print(\"\\nThe computer selected a number between 1 and 100.\")\n",
    "\n",
    "choice = int(input(\"Make your 1.guess: \"))\n",
    " \n",
    "if choice < 1 or choice > 100:\n",
    "    choice = int(input(\"Please try again. You have to choose a number between 1 and 100: \"))\n",
    "\n",
    "count = 0\n",
    "\n",
    "while hidden_number != choice and count<7:\n",
    "    if choice < 1 or choice > 100:\n",
    "        choice = int(input(\"Please try again. You have to choose a number between 1 and 100: \"))\n",
    "    else:\n",
    "        count +=1\n",
    "        if hidden_number > choice:\n",
    "            print(\"The unknown number is higher.\\n\")\n",
    "        elif hidden_number < choice:\n",
    "            print(\"The unknown number is smaller.\\n\")\n",
    "        choice = int(input(\"Make your next guess:\"))\n",
    "if hidden_number == choice:\n",
    "    print(\"\\n\\nYou did it!\\nThe hidden number was\",hidden_number)\n",
    "else:\n",
    "    print(\"\\n\\nYou failed!\\nThe hidden number was\", hidden_number)"
   ]
  },
  {
   "cell_type": "code",
   "execution_count": null,
   "metadata": {},
   "outputs": [],
   "source": [
    "#old version - mistake for number out of range not solved\n",
    "print(\"Today we will play a little game called 'Guess the number'.\\nIn this game you have to find out which number (a random number between 1 and 100) the computer chose. \\nYou have 8 tries. The computer will always indicate whether your the unknown number is higher or lower.\")\n",
    "\n",
    "for x in range(1):\n",
    "    hidden_number=random.randint(1,101)\n",
    "print(\"\\nThe computer selected a number between 1 and 100.\")\n",
    "\n",
    "choice = int(input(\"Make your 1.guess: \"))\n",
    "\n",
    "count = 0\n",
    "\n",
    "while hidden_number != choice and count<7:\n",
    "    count +=1\n",
    "    if hidden_number > choice:\n",
    "        print(\"The unknown number is higher.\\n\")\n",
    "    elif hidden_number < choice:\n",
    "        print(\"The unknown number is smaller.\\n\")\n",
    "    choice = int(input(\"Make your next guess:\"))\n",
    "if hidden_number == choice:\n",
    "    print(\"\\n\\nYou did it!\\nThe hidden number is\",hidden_number)\n",
    "else:\n",
    "    print(\"\\n\\nYou failed!\\nThe hidden number was\", hidden_number)"
   ]
  },
  {
   "cell_type": "code",
   "execution_count": 18,
   "metadata": {},
   "outputs": [
    {
     "data": {
      "text/plain": [
       "'\\n\\nprint(\"Today we will play a little game dalled \\'Guess the number\\'.\\nIn this game you have to find out which number (a random number between 1 and 100) the computer chose. \\nYou have 8 tries. The computer will always indicate whether your the unknown number is higher or lower.\")\\n\\nfor x in range(1):\\n    hidden_number=random.randint(1,101)\\nprint(\"\\nThe computer selected a number between 1 and 100.\")\\n\\nchoice = int(input(\"Make your 1.guess: \"))\\n\\nwhile True:\\n    choice = input(\"Please enter a number?\")\\n    try:\\n        val = int(choice)\\n        print(\"Input is an integer number.\")\\n        print(\"Input number is: \", val)\\n        break;\\n    except ValueError:\\n        try:\\n            float(num)\\n            print(\"Input is an float number.\")\\n            print(\"Input number is: \", val)\\n            break;\\n        except ValueError:\\n            print (\"This is not a number. Please enter a valid number\")\\n    \\ncount = 0\\n\\nwhile hidden_number != choice and count<7:\\n    count +=1\\n    if hidden_number > choice:\\n        print(\"The unknown number is higher.\\n\")\\n    elif hidden_number < choice:\\n        print(\"The unknown number is smaller.\\n\")\\n    choice = int(input(\"Make your next guess:\"))\\nif hidden_number == choice:\\n    print(\"\\n\\nYou did it!\\nThe hidden number is\",hidden_number)\\nelse:\\n    print(\"\\n\\nYou failed!\\nThe hidden number was\", hidden_number)\\n\\n'"
      ]
     },
     "execution_count": 18,
     "metadata": {},
     "output_type": "execute_result"
    }
   ],
   "source": [
    "\"\"\"\n",
    "\n",
    "print(\"Today we will play a little game dalled 'Guess the number'.\\nIn this game you have to find out which number (a random number between 1 and 100) the computer chose. \\nYou have 8 tries. The computer will always indicate whether your the unknown number is higher or lower.\")\n",
    "\n",
    "for x in range(1):\n",
    "    hidden_number=random.randint(1,101)\n",
    "print(\"\\nThe computer selected a number between 1 and 100.\")\n",
    "\n",
    "choice = int(input(\"Make your 1.guess: \"))\n",
    "\n",
    "while True:\n",
    "    choice = input(\"Please enter a number?\")\n",
    "    try:\n",
    "        val = int(choice)\n",
    "        print(\"Input is an integer number.\")\n",
    "        print(\"Input number is: \", val)\n",
    "        break;\n",
    "    except ValueError:\n",
    "        try:\n",
    "            float(num)\n",
    "            print(\"Input is an float number.\")\n",
    "            print(\"Input number is: \", val)\n",
    "            break;\n",
    "        except ValueError:\n",
    "            print (\"This is not a number. Please enter a valid number\")\n",
    "    \n",
    "count = 0\n",
    "\n",
    "while hidden_number != choice and count<7:\n",
    "    count +=1\n",
    "    if hidden_number > choice:\n",
    "        print(\"The unknown number is higher.\\n\")\n",
    "    elif hidden_number < choice:\n",
    "        print(\"The unknown number is smaller.\\n\")\n",
    "    choice = int(input(\"Make your next guess:\"))\n",
    "if hidden_number == choice:\n",
    "    print(\"\\n\\nYou did it!\\nThe hidden number is\",hidden_number)\n",
    "else:\n",
    "    print(\"\\n\\nYou failed!\\nThe hidden number was\", hidden_number)\n",
    "\n",
    "\"\"\"\n"
   ]
  }
 ],
 "metadata": {
  "kernelspec": {
   "display_name": "Python 3",
   "language": "python",
   "name": "python3"
  },
  "language_info": {
   "codemirror_mode": {
    "name": "ipython",
    "version": 3
   },
   "file_extension": ".py",
   "mimetype": "text/x-python",
   "name": "python",
   "nbconvert_exporter": "python",
   "pygments_lexer": "ipython3",
   "version": "3.7.4"
  }
 },
 "nbformat": 4,
 "nbformat_minor": 2
}
